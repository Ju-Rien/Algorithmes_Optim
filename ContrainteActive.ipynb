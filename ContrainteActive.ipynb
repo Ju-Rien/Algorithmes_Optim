{
 "cells": [
  {
   "cell_type": "markdown",
   "metadata": {},
   "source": [
    "# Algorithme des contraintes actives\n",
    "Par Julien Corriveau-Trudel"
   ]
  },
  {
   "cell_type": "code",
   "execution_count": 8,
   "metadata": {},
   "outputs": [],
   "source": [
    "using LinearAlgebra;\n",
    "import Pkg; Pkg.add(\"ForwardDiff\");\n",
    "using ForwardDiff;\n",
    "IJulia.clear_output();"
   ]
  },
  {
   "cell_type": "markdown",
   "metadata": {},
   "source": [
    "# Algorithme"
   ]
  },
  {
   "cell_type": "markdown",
   "metadata": {},
   "source": [
    "## Algorithme des contraintes actives\n",
    "L'objectif de cet algorithme est de résoudre un programme non-linéaire avec contraintes d'inégalités linéaires."
   ]
  },
  {
   "cell_type": "code",
   "execution_count": 61,
   "metadata": {},
   "outputs": [],
   "source": [
    "# ActSet : Algorithme des contraintes actives\n",
    "#\n",
    "# Entrée: f (Function):\n",
    "#         x0: Point initial, vecteur colonne\n",
    "#         A (Array{Float64,2}): Matrice de contraintes, tel que Ax =< b.\n",
    "#         b : Vecteur de contraintes, tel que Ax =< b.\n",
    "#         τ (Float64 ∈[0,0.5]): paramètre de pas admissible pour le critère d'Armijo\n",
    "#         arrêt: nombre d'itération max, afin que l'algorithme prenne fin\n",
    "#         ϵ: critère d'arrêt, valeur min de Z∇f(x) avant de le considérer nul\n",
    "# Sortie: Point considéré comme minimum local\n",
    "\n",
    "function ActSet(f::Function, x0, A::Array{Float64,2}, b, arrêt = Inf, τ = 0.1,  ϵ::Float64 = sqrt(eps()))\n",
    "    if size(x0)[1] == 1\n",
    "        if size(x0)[2] != 1\n",
    "            return ArgumentError(\"Argument x0 vecteur ligne. Doit être vecteur colonne.\")\n",
    "        end\n",
    "    end\n",
    "    if size(b)[1] == 1\n",
    "        if size(b)[2] != 1\n",
    "            return ArgumentError(\"Argument b vecteur ligne. Doit être vecteur colonne.\")\n",
    "        end\n",
    "    end\n",
    "    \n",
    "    for i in 1:size(A)[1]\n",
    "        if (A[[i],:]*x0)[1] - b[i] > ϵ\n",
    "            return ArgumentError(\"x0 n'est pas un point réalisable.\")\n",
    "        end\n",
    "    end\n",
    "    \n",
    "    \n",
    "    # Dimensions des choses\n",
    "    #n = size(x0)[1]\n",
    "    #m = size(A)[1]\n",
    "    \n",
    "    # Trouver l'ensemble de contraintes actives\n",
    "    W = FindActiveSet(x0, A, b, ϵ)\n",
    "    # Trouver le noyau de A_W\n",
    "    Z = nullspace(A[W,:])\n",
    "    \n",
    "    # Gradient de la fonction\n",
    "    ∇f = x -> ForwardDiff.gradient(f, x);\n",
    "    xk = x0\n",
    "    \n",
    "    # Itération\n",
    "    it_restr = 0\n",
    "    it_relax = 0\n",
    "    # Grande boucle\n",
    "    while it_restr < arrêt\n",
    "        # RESTRICTION\n",
    "        while norm(∇f(xk)'*Z) > ϵ\n",
    "            #print(\"Restriction. \\n\")\n",
    "            it_restr = it_restr + 1\n",
    "\n",
    "            # Calcul de sk, direction de descente de minϕ(α) = f(xk + Z*α)\n",
    "            sk = -(Z'*∇f(xk))\n",
    "            dk = Z*sk\n",
    "            θk = Pas_Admissible(xk, dk, f, τ, ∇f(xk)')\n",
    "            θmax = Findθmax(xk, dk, A, b, ϵ)\n",
    "\n",
    "            if θmax <= θk\n",
    "                xk = xk + θmax*dk\n",
    "                W = FindActiveSet(xk, A, b, ϵ)\n",
    "                Z = nullspace(A[W,:])\n",
    "            else\n",
    "                xk = xk + θk*dk\n",
    "            end\n",
    "            \n",
    "            if it_restr >= arrêt\n",
    "                print(\"Arrêt prématurée à \",it_restr, \" it de restriction et \" ,it_relax,\" it de relaxation. \\n\")\n",
    "                return xk\n",
    "            end\n",
    "        end\n",
    "        # RELAXATION\n",
    "        it_relax = it_relax + 1\n",
    "        if size(W)[1] >= 1\n",
    "            \n",
    "            dim_A = size(A[W,:])\n",
    "            \n",
    "            if (dim_A[1] == dim_A[2])&(rank(A[W,:]) !== dim_A[2])\n",
    "                λ=[A[W,:];zeros(dim_A[2])']\\[-∇f(xk);0]\n",
    "            else\n",
    "                λ = (A[W,:]')\\-∇f(xk)\n",
    "            end\n",
    "            #print(\"λ: \",λ, \"\\n\")\n",
    "        elseif size(W)[1] == 0\n",
    "            print(\"Arrêt optimal à \",it_restr, \" it de restriction et \" ,it_relax,\" it de relaxation. \\n\")\n",
    "            return xk;\n",
    "        end\n",
    "        \n",
    "        λmin = minimum(λ)\n",
    "        \n",
    "        if λmin >= -ϵ\n",
    "            print(\"Arrêt optimal à \",it_restr, \" it de restriction et \" ,it_relax,\" it de relaxation. \\n\")\n",
    "            return xk;\n",
    "        end\n",
    "        \n",
    "        \n",
    "        # ENLEVER LA PLUS PETITE\n",
    "        #ind = findfirst(isequal(λmin) , λ)\n",
    "        #W = deleteat!(W,ind)\n",
    "        \n",
    "        # ENLEVER UNE NÉGATIVE ALÉATOIREMENT\n",
    "        #NbNég = 0\n",
    "        #for j in 1:size(W)[1]\n",
    "        #    if λ[j] < 0.\n",
    "        #        NbNég = NbNég + 1\n",
    "        #    end\n",
    "        #end\n",
    "        #ÀEnlever = Int64(floor(rand()*NbNég + 1))\n",
    "        #for j in 1:size(W)[1]\n",
    "        #    if λ[j] < 0.\n",
    "        #        ÀEnlever = ÀEnlever - 1\n",
    "        #    end\n",
    "        #    if ÀEnlever == 0\n",
    "        #        deleteat!(W,j)\n",
    "        #        break\n",
    "        #    end\n",
    "        #end\n",
    "        \n",
    "        # ENLEVER LA PLUS PETITE, AVEC BRIS D'ÉGALITÉ ALÉATOIRE\n",
    "        PP = 0\n",
    "        #print(\"W: \", W, \"\\n\")\n",
    "        for j in 1:size(W)[1]\n",
    "            if abs(λ[j] - λmin) < ϵ\n",
    "                PP = PP + 1\n",
    "            end\n",
    "        end\n",
    "        \n",
    "        if(PP != 1)\n",
    "            ÀEnlever = Int64(floor(rand()*PP + 1))\n",
    "            for j in 1:size(W)[1]\n",
    "                if abs(λ[j] - λmin) < ϵ\n",
    "                    ÀEnlever = ÀEnlever - 1\n",
    "                end\n",
    "                if ÀEnlever == 0\n",
    "                    #print(\"On retire: \", j, \"\\n\")\n",
    "                    deleteat!(W,j)\n",
    "                    break\n",
    "                end\n",
    "            end\n",
    "        else\n",
    "            ind = findfirst(isequal(λmin) , λ)\n",
    "            W = deleteat!(W,ind)\n",
    "        end\n",
    "        \n",
    "        #W = deleteat!(W,ind)\n",
    "        Z = nullspace(A[W,:])\n",
    "    end\n",
    "end;"
   ]
  },
  {
   "cell_type": "code",
   "execution_count": 3,
   "metadata": {},
   "outputs": [],
   "source": [
    "# FindActiveSet: renvoie les indices des contraintes qui sont respectées avec égalités, ordonnées\n",
    "function FindActiveSet(x, A, b, ϵ)\n",
    "    actSet = []\n",
    "    for i in 1:size(A)[1]\n",
    "        if abs((A[i,:]'*x)[1] - b[i]) < ϵ\n",
    "            actSet = push!(actSet, i)\n",
    "        end\n",
    "    end\n",
    "    return sort(actSet)\n",
    "end;\n",
    "\n",
    "# Findθmax: trouve θmax\n",
    "function Findθmax(x, dk, A, b, ϵ)\n",
    "    θ = []\n",
    "    as = FindActiveSet(x,A,b,ϵ)\n",
    "    for i in 1:size(A)[1]\n",
    "        if i in as\n",
    "        else\n",
    "            tmp1 = (b[i]-A[i,:]'*x)[1]\n",
    "            tmp2 = (A[i,:]'*dk)[1]\n",
    "            if tmp2 > 0 # θ est borné supérieurement seulement si ai*dk > 0 \n",
    "                θ = push!(θ, tmp1/tmp2)\n",
    "            end\n",
    "        end\n",
    "    end\n",
    "    if size(θ)[1] > 0\n",
    "        return minimum(θ)\n",
    "    else\n",
    "        return Inf\n",
    "    end\n",
    "end;\n",
    "\n",
    "# On utilisera la mise en oeuvre d'un pas admissible tel que vu à la page 150 des NdC de J.-P. Dussault.\n",
    "function Pas_Admissible(x, d, f::Function, τ, ∇f)\n",
    "    θ = 1.0\n",
    "    while f(x+θ*d)- f(x) > θ*τ*(∇f*d)[1]\n",
    "        θ = θ/2\n",
    "    end\n",
    "    return θ\n",
    "end;"
   ]
  },
  {
   "cell_type": "markdown",
   "metadata": {},
   "source": [
    "# Tests"
   ]
  },
  {
   "cell_type": "markdown",
   "metadata": {},
   "source": [
    "## Validation avec le problème #2\n",
    "On valide premièrement l'algorithme avec le programme de l'exercice 2, sachant que l'exercice 1 admettra une infinité de multiplicateurs pour la solution optimale, ce qui ajoute une complexité de résolution pour l'algorithme. Commençons par énoncer le programme:\n",
    "\n",
    "$$ \\max{f(x) = (x_1 - 1)^2(6 - x_2)}$$\n",
    "\\begin{align}\n",
    "\\text{s.à.}& -x_1 &\\leq -2\\\\\n",
    "& x_1 - m x_2 &\\leq 0\\\\\n",
    "& -x_2 & \\leq 0 \\\\\n",
    "& x_2 & \\leq 5\\\\\n",
    "\\end{align}\n",
    "\n",
    "avec $m > 0$. Le problème de maximisation est équivalent à celui de minimisation:\n",
    "$$ \\min{-f(x) = (x_1 - 1)^2(x_2- 6)}$$\n",
    "\\begin{align}\n",
    "\\text{s.à.}& -x_1 &\\leq -2\\\\\n",
    "& x_1 - m x_2 &\\leq 0\\\\\n",
    "& -x_2 & \\leq 0 \\\\\n",
    "& x_2 & \\leq 5\\\\\n",
    "\\end{align}\n",
    "\n",
    "### Choix de point de départ $x_0$\n",
    "Le point de départ doit être dans l'espace convexe de valeurs réalisables. On testera les points de départs suivant, pour chaque valeur de $m$:\n",
    "\n",
    "``x0s = ([2.,5.], [2. + δ1, 5. - δ2], [2., 5. - δ2])``,\n",
    "\n",
    "avec $\\delta 1$ et $\\delta2$ tels que le point reste dans le domaine réalisable, sans être sur une contrainte.\n",
    "Ainsi, nous avons un point qui commence sur une, deux ou aucune contrainte des contraites.\n",
    "\n",
    "\n",
    "### Choix de m \n",
    "On sait que pour $m < \\frac{2}{5}$, il n'existe aucune solution au programme. Ainsi, on passera l'algorithme plusieurs fois sur une grille de $m$ qui réflète les différents cas trouvés lors de l 'exercice #2. Voici les valeurs de m choisies:\n",
    "\n"
   ]
  },
  {
   "cell_type": "code",
   "execution_count": 52,
   "metadata": {},
   "outputs": [
    {
     "data": {
      "text/plain": [
       "6-element Array{Float64,1}:\n",
       "   0.4083333333333333\n",
       "   0.75              \n",
       "   1.0               \n",
       "   2.5               \n",
       "  15.0               \n",
       " 113.0               "
      ]
     },
     "execution_count": 52,
     "metadata": {},
     "output_type": "execute_result"
    }
   ],
   "source": [
    "ms = [49. /120., 3. /4., 1., 5. /2., 15., 113.]"
   ]
  },
  {
   "cell_type": "markdown",
   "metadata": {},
   "source": [
    "Voici les trois cas de figure à laquel on s'attend:\n",
    "### Cas 1 $m \\in [\\frac{2}{5}, \\frac{5}{12}]$\n",
    "Le point optimal attendu est: $x^* = (2, \\frac{2}{m})^t$.\n",
    "\n",
    "### Cas 2 $m \\in [\\frac{5}{12}, 1]$\n",
    "La théorie obtenu lors de la résolution de l'exercice 2 nous suggère qu'il n'y aurait pas de solution. Toutefois, nous sommes conscient que ce résultat est erroné. \n",
    "\n",
    "### Cas 3 $m \\in [1, \\infty)$\n",
    "Le point optimal attendu est: $x^* = (4m + \\frac{1}{3}, 4 + \\frac{1}{3m})^t$.\n",
    "\n",
    "\n",
    "On pourra comparer les points obtenus par l'algorithme avec ce que la théorie nous dit.\n"
   ]
  },
  {
   "cell_type": "code",
   "execution_count": 42,
   "metadata": {},
   "outputs": [
    {
     "name": "stdout",
     "output_type": "stream",
     "text": [
      "Arrêt optimal à 2 it de restriction et 3 it de relaxation. \n",
      "Soln pour m = 0.4083333333333333, x0 = [2.0, 5.0]: [2.0, 4.89796]\n",
      "Arrêt optimal à 2 it de restriction et 1 it de relaxation. \n",
      "Soln pour m = 0.4083333333333333, x0 = [2.03, 4.98]: [2.0, 4.89796]\n",
      "Arrêt optimal à 1 it de restriction et 1 it de relaxation. \n",
      "Soln pour m = 0.4083333333333333, x0 = [2.0, 4.98]: [2.0, 4.89796]\n",
      "Arrêt optimal à 36 it de restriction et 3 it de relaxation. \n",
      "Soln pour m = 0.75, x0 = [2.0, 5.0]: [3.33333, 4.44444]\n",
      "Arrêt optimal à 42 it de restriction et 1 it de relaxation. \n",
      "Soln pour m = 0.75, x0 = [2.03, 4.98]: [3.33333, 4.44444]\n",
      "Arrêt optimal à 39 it de restriction et 3 it de relaxation. \n",
      "Soln pour m = 0.75, x0 = [2.0, 4.98]: [3.33333, 4.44444]\n",
      "Arrêt prématurée à 10000 it de restriction et 2 it de relaxation. \n",
      "Soln pour m = 1.0, x0 = [2.0, 5.0]: [4.33333, 4.33333]\n",
      "Arrêt prématurée à 10000 it de restriction et 0 it de relaxation. \n",
      "Soln pour m = 1.0, x0 = [2.03, 4.98]: [4.33333, 4.33333]\n",
      "Arrêt prématurée à 10000 it de restriction et 2 it de relaxation. \n",
      "Soln pour m = 1.0, x0 = [2.0, 4.98]: [4.33333, 4.33333]\n",
      "Arrêt optimal à 22 it de restriction et 4 it de relaxation. \n",
      "Soln pour m = 2.5, x0 = [2.0, 5.0]: [10.3333, 4.13333]\n",
      "Arrêt optimal à 30 it de restriction et 1 it de relaxation. \n",
      "Soln pour m = 2.5, x0 = [2.03, 4.98]: [10.3333, 4.13333]\n",
      "Arrêt optimal à 23 it de restriction et 2 it de relaxation. \n",
      "Soln pour m = 2.5, x0 = [2.0, 4.98]: [10.3333, 4.13333]\n",
      "Arrêt prématurée à 10000 it de restriction et 3334 it de relaxation. \n",
      "Soln pour m = 15.0, x0 = [2.0, 5.0]: [72.2896, 4.81931]\n",
      "Arrêt prématurée à 10000 it de restriction et 3333 it de relaxation. \n",
      "Soln pour m = 15.0, x0 = [2.03, 4.98]: [2.0, 0.133333]\n",
      "Arrêt prématurée à 10000 it de restriction et 3332 it de relaxation. \n",
      "Soln pour m = 15.0, x0 = [2.0, 4.98]: [72.2896, 4.81931]\n",
      "Arrêt prématurée à 10000 it de restriction et 3 it de relaxation. \n",
      "Soln pour m = 113.0, x0 = [2.0, 5.0]: [452.333, 4.00295]\n",
      "Arrêt prématurée à 10000 it de restriction et 2 it de relaxation. \n",
      "Soln pour m = 113.0, x0 = [2.03, 4.98]: [452.333, 4.00295]\n",
      "Arrêt prématurée à 10000 it de restriction et 1 it de relaxation. \n",
      "Soln pour m = 113.0, x0 = [2.0, 4.98]: [452.333, 4.00295]\n"
     ]
    }
   ],
   "source": [
    "f2(x::Vector) = (x[1]-1)^2*(x[2] - 6)\n",
    "\n",
    "b2 = [-2.; 0.; 0.; 5.]\n",
    "\n",
    "#res = []\n",
    "\n",
    "for i in 1:size(ms)[1]\n",
    "    m = ms[i]\n",
    "    δ1 = 0.03\n",
    "    δ2 = 0.02\n",
    "    A2 = [-1. 0.; 1. -m; 0. -1.; 0. 1.]\n",
    "    x0s = ([2.,5.], [2. + δ1, 5. - δ2], [2., 5. - δ2])\n",
    "    for xinit in x0s    \n",
    "        print(\"Soln pour m = \", m ,\", x0 = \",xinit,\": \", ActSet(f2, xinit, A2, b2, 10000), \"\\n\")\n",
    "    end\n",
    "end"
   ]
  },
  {
   "cell_type": "markdown",
   "metadata": {},
   "source": [
    "La théorie nous indiquait que les points qu'on devait trouver sont:"
   ]
  },
  {
   "cell_type": "code",
   "execution_count": 53,
   "metadata": {
    "scrolled": true
   },
   "outputs": [
    {
     "name": "stdout",
     "output_type": "stream",
     "text": [
      "[2.0, 4.89796]\n",
      "Aucune réponse pour m = 0.75. \n",
      "[4.33333, 4.33333]\n",
      "[10.3333, 4.13333]\n",
      "[60.3333, 4.02222]\n",
      "[452.333, 4.00295]\n"
     ]
    }
   ],
   "source": [
    "print([2, 2. /(49. /120.)], \"\\n\")\n",
    "print(\"Aucune réponse pour m = 0.75. \\n\")\n",
    "for m in deleteat!(ms, [1 2])\n",
    "    print([4*m + 1/3., 4 + 1/(3. * m)],\"\\n\")\n",
    "end"
   ]
  },
  {
   "cell_type": "markdown",
   "metadata": {},
   "source": [
    "## Analyse des résultats\n",
    "L'algorithme a trouvé les points attendus pour presque tous les points. En effet, pour $m \\in \\{\\frac{49}{120}, , 1, \\frac{5}{2}, 113\\}$, l'algorithme a trouvé les points prévus, peu importe le point initial. Par contre, pour les deux autres valeurs de $m$, il faut voir ce qu'il se passe.\n",
    "\n",
    "Nous sommes conscient que dans la démarche du devoir, le fait que l'intervalle $(5/12, 1)$ ne soit pas couvert était incongrue, ce que l'algorithme nous démontre plus haut, pour $ m = \\frac{3}{4}$. Toutefois, en utilisant la même règle que pour le cas où $m \\in [1, \\infty)$, le point obtenu concorde! \n"
   ]
  },
  {
   "cell_type": "code",
   "execution_count": 56,
   "metadata": {},
   "outputs": [
    {
     "data": {
      "text/plain": [
       "2-element Array{Float64,1}:\n",
       " 3.3333333333333335\n",
       " 4.444444444444445 "
      ]
     },
     "execution_count": 56,
     "metadata": {},
     "output_type": "execute_result"
    }
   ],
   "source": [
    "[4*(3/4) + 1/3., 4 + 1/(3. * (3/4))]"
   ]
  },
  {
   "cell_type": "markdown",
   "metadata": {},
   "source": [
    "Pour $m = 15$, un phénomène intéressant survient: le résultat ne concorde pas avec la règle obtenu lors de la théorie.\n",
    "Nous obtenons plutôt deux résultats qui diffèrent selon le point de départ: $(72.2896, 4.81931)^t$ et $(2.0, 0.133333)^t$. Le premier a été obtenu avec les points initiaux $x_0 = (2, 5)^t$ et $x_0 = (2.0, 4.98)^t$, alors que l'autre est obtenu en commençant à $x_0 = (2.03, 4.98)^t$. Ni l'un ni l'autre ne colle à la règle: $x^* = (4m + \\frac{1}{3}, 4 + \\frac{1}{3m})^t$.\n",
    "\n",
    "C'est fort probablement un cas particulier qui nous a échappé lors de la théorie, voyant la performance de l'algorithme pour les autres valeurs de $m$."
   ]
  },
  {
   "cell_type": "markdown",
   "metadata": {},
   "source": [
    "## Validation avec le problème #2\n",
    "On valide ensuite l'algorithme avec le programme de l'exercice 1. Nous savons par la théorie que ce problème admettra une infinité de multiplicateurs pour une solution optimale en $x^* = (0, \\frac{1}{2}, \\frac{1}{2})^t$, ce qui ajoute une complexité de résolution pour l'algorithme. Commençons par énoncer le programme:\n",
    "\n",
    "$$ \\min{f(x) = \\frac{1}{2}(x_1^2 + 6x_1 + 2x_2^2 + 2 x_3^2)}$$\n",
    "\\begin{align}\n",
    "\\text{s.à. }\\quad \\quad& x_1 + x_2 + x_3 &= 1\\\\\n",
    "& x_1, x_2, x_3 &\\leq 0\\\\\n",
    "\\end{align}\n",
    "\n",
    "\n",
    "### Choix de point de départ $x_0$\n",
    "Le point de départ doit être dans l'espace convexe de valeurs réalisables. On testera des points sur une, deux ou trois contrainte, en considérant la contrainte d'égalité comme étant une seule contrainte, en plus de commencer avec le point optimal local $x^* = (0, \\frac{1}{2}, \\frac{1}{2})^t$:\n"
   ]
  },
  {
   "cell_type": "code",
   "execution_count": 57,
   "metadata": {},
   "outputs": [
    {
     "data": {
      "text/plain": [
       "([0.333333, 0.333333, 0.333333], [0.5, 0.0, 0.5], [1.0, 0.0, 0.0], [0.0, 0.5, 0.5])"
      ]
     },
     "execution_count": 57,
     "metadata": {},
     "output_type": "execute_result"
    }
   ],
   "source": [
    "x0s2 = ([1. /3.; 1. /3.; 1. /3.], [0.5, 0, 0.5], [1.,0., 0.],[0, 0.5, 0.5])"
   ]
  },
  {
   "cell_type": "code",
   "execution_count": 58,
   "metadata": {
    "scrolled": false
   },
   "outputs": [
    {
     "name": "stdout",
     "output_type": "stream",
     "text": [
      "Arrêt optimal à 2 it de restriction et 3 it de relaxation. \n",
      "Soln pour x0 = [0.333333, 0.333333, 0.333333]: [0.0, 0.0, 0.0]\n",
      "Arrêt optimal à 3 it de restriction et 4 it de relaxation. \n",
      "Soln pour x0 = [0.5, 0.0, 0.5]: [0.0, 0.0, 0.0]\n",
      "Arrêt optimal à 3 it de restriction et 5 it de relaxation. \n",
      "Soln pour x0 = [1.0, 0.0, 0.0]: [0.0, 0.0, 0.0]\n",
      "Arrêt optimal à 4 it de restriction et 4 it de relaxation. \n",
      "Soln pour x0 = [0.0, 0.5, 0.5]: [0.0, 0.0, 0.0]\n"
     ]
    }
   ],
   "source": [
    "#Premiers Tests de la fonction\n",
    "f(x::Vector) = (x[1]^2+6*x[1]+2*x[2]^2 + 2*x[3]^2)/2\n",
    "A = [1. 1. 1.;-1. -1. -1.; -1. 0. 0. ; 0. -1. 0.; 0. 0. -1.]\n",
    "b = [1.,-1.,0.,0.,0.]\n",
    "for xinit in x0s2\n",
    "    print(\"Soln pour x0 = \",xinit,\": \", ActSet(f, xinit, A, b, 10000), \"\\n\")\n",
    "end"
   ]
  },
  {
   "cell_type": "markdown",
   "metadata": {},
   "source": [
    "## Analyse des résultats\n",
    "Pour tous les points de départ, l'algorithme renvoit le point optimal $x^{**} = (0,0,0)$, même lorsqu'on commence par l'autre point optimal $x^* = (0, \\frac{1}{2}, \\frac{1}{2})^t$. Ceci est dû au fait que pour résoudre le système d'équation qui donne les multiplicateurs de Lagrange, on procède à une résolution qui donne une solution unique, alors que le système admet une infinité de solution pour les multiplicateurs de Lagrange au point $x^* = (0, \\frac{1}{2}, \\frac{1}{2})^t$. Ainsi, l'algorithme doit donne une solution qui possède des multiplicateurs négatifs, même s'il existe des solutions où les multiplicateurs sont tous positifs, ce qui fait penser à l'algorithme que ce point n'est pas une solution optimale.\n",
    "\n",
    "Sinon, l'algorithme fonctionne bien."
   ]
  }
 ],
 "metadata": {
  "@webio": {
   "lastCommId": null,
   "lastKernelId": null
  },
  "kernelspec": {
   "display_name": "Julia 1.3.1",
   "language": "julia",
   "name": "julia-1.3"
  },
  "language_info": {
   "file_extension": ".jl",
   "mimetype": "application/julia",
   "name": "julia",
   "version": "1.3.1"
  }
 },
 "nbformat": 4,
 "nbformat_minor": 2
}
